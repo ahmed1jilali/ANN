{
 "cells": [
  {
   "cell_type": "markdown",
   "metadata": {},
   "source": [
    "# This is an implemetation of ADALINE"
   ]
  },
  {
   "cell_type": "markdown",
   "metadata": {},
   "source": [
    "The code down below is part of the *lib.py* file, which will contain the:\n",
    "* random weights generation\n",
    "* the prediction function *threshold function*\n",
    "* the weighted sum function\n",
    "* and the training function"
   ]
  },
  {
   "cell_type": "code",
   "execution_count": 83,
   "metadata": {},
   "outputs": [],
   "source": [
    "import numpy as np"
   ]
  },
  {
   "cell_type": "code",
   "execution_count": 84,
   "metadata": {},
   "outputs": [],
   "source": [
    "def random_weights(X, random_state: int):\n",
    "    rand = np.random.RandomState(random_state)\n",
    "    w = rand.normal(loc=0.0, scale=0.01, size=1 + X.shape[1])\n",
    "    return w"
   ]
  },
  {
   "cell_type": "code",
   "execution_count": 85,
   "metadata": {},
   "outputs": [],
   "source": [
    "def predict(X, w):\n",
    "    return np.where(net_input(X, w) >= 0.0, 1, -1)"
   ]
  },
  {
   "cell_type": "code",
   "execution_count": 86,
   "metadata": {},
   "outputs": [],
   "source": [
    "def net_input(X, w):\n",
    "    return np.dot(X, w[1:]) + w[0]"
   ]
  },
  {
   "cell_type": "code",
   "execution_count": 87,
   "metadata": {},
   "outputs": [],
   "source": [
    "def fit(X, y, eta=0.001, n_iter=1):\n",
    "    '''loop over exemplars and update weights'''\n",
    "    mse_iteration = []\n",
    "    w = random_weights(X, random_state=1)\n",
    "    for pair in range(n_iter):\n",
    "        output = net_input(X, w)\n",
    "        gradient = 2*(output - y)\n",
    "        w[1:] += eta*(X.T @-gradient)\n",
    "        w[0] += eta*-gradient.sum()\n",
    "        mse = (((y - output)**2).sum())/len(y)\n",
    "        mse_iteration.append(mse)\n",
    "    return w, mse_iteration"
   ]
  },
  {
   "cell_type": "code",
   "execution_count": 88,
   "metadata": {},
   "outputs": [],
   "source": [
    "import numpy as np\n",
    "import pandas as pd\n",
    "import altair as alt"
   ]
  },
  {
   "cell_type": "code",
   "execution_count": 89,
   "metadata": {},
   "outputs": [],
   "source": [
    "def species_generator(mu1, sigma1, mu2, sigma2, n_samples, target, seed):\n",
    "    # mu1 is the mean weight\n",
    "    # mu2 is the  mean wingspan\n",
    "    rand = np.random.RandomState(seed)\n",
    "    f1 = rand.normal(mu1, sigma1, n_samples)\n",
    "    f2 = rand.normal(mu2, sigma2, n_samples)\n",
    "    X = np.array([f1, f2])\n",
    "    X = X.transpose()\n",
    "    y = np.full((n_samples), target)\n",
    "    return X, y"
   ]
  },
  {
   "cell_type": "code",
   "execution_count": 90,
   "metadata": {},
   "outputs": [],
   "source": [
    "albatross_weight_mean = 9000 # in grams\n",
    "albatross_weight_variance =  800 # in grams\n",
    "albatross_wingspan_mean = 300 # in cm\n",
    "albatross_wingspan_variance = 20 # in cm \n",
    "n_samples = 100\n",
    "target = 1\n",
    "seed = 100\n",
    "\n",
    "# aX: feature matrix (weight, wingspan)\n",
    "# ay: target value (1)\n",
    "aX, ay = species_generator(albatross_weight_mean, albatross_weight_variance,\n",
    "                           albatross_wingspan_mean, albatross_wingspan_variance,\n",
    "                           n_samples,target,seed )\n",
    "\n",
    "\n",
    "albatross_dic = {'weight-(gm)': aX[:,0],\n",
    "                 'wingspan-(cm)': aX[:,1], \n",
    "                 'species': ay,\n",
    "                 'url': \"https://raw.githubusercontent.com/pabloinsente/nn-mod-cog/master/notebooks/images/albatross.png\"}\n",
    "\n",
    "\n",
    "# put values in a relational table (pandas dataframe)\n",
    "albatross_df = pd.DataFrame(albatross_dic)"
   ]
  },
  {
   "cell_type": "code",
   "execution_count": 91,
   "metadata": {},
   "outputs": [],
   "source": [
    "owl_weight_mean = 1000 # in grams\n",
    "owl_weight_variance =  200 # in grams\n",
    "owl_wingspan_mean = 100 # in cm\n",
    "owl_wingspan_variance = 15 # in cm\n",
    "n_samples = 100\n",
    "target = -1\n",
    "seed = 100\n",
    "\n",
    "# oX: feature matrix (weight, wingspan)\n",
    "# oy: target value (1)\n",
    "oX, oy = species_generator(owl_weight_mean, owl_weight_variance,\n",
    "                           owl_wingspan_mean, owl_wingspan_variance,\n",
    "                           n_samples,target,seed )\n",
    "\n",
    "owl_dic = {'weight-(gm)': oX[:,0],\n",
    "             'wingspan-(cm)': oX[:,1], \n",
    "             'species': oy,\n",
    "             'url': \"https://raw.githubusercontent.com/pabloinsente/nn-mod-cog/master/notebooks/images/owl.png\"}\n",
    "\n",
    "# put values in a relational table (pandas dataframe)\n",
    "owl_df = pd.DataFrame(owl_dic)"
   ]
  },
  {
   "cell_type": "code",
   "execution_count": 92,
   "metadata": {},
   "outputs": [
    {
     "data": {
      "text/html": [
       "\n",
       "<style>\n",
       "  #altair-viz-38a7445f144847d4844aab5088cbe765.vega-embed {\n",
       "    width: 100%;\n",
       "    display: flex;\n",
       "  }\n",
       "\n",
       "  #altair-viz-38a7445f144847d4844aab5088cbe765.vega-embed details,\n",
       "  #altair-viz-38a7445f144847d4844aab5088cbe765.vega-embed details summary {\n",
       "    position: relative;\n",
       "  }\n",
       "</style>\n",
       "<div id=\"altair-viz-38a7445f144847d4844aab5088cbe765\"></div>\n",
       "<script type=\"text/javascript\">\n",
       "  var VEGA_DEBUG = (typeof VEGA_DEBUG == \"undefined\") ? {} : VEGA_DEBUG;\n",
       "  (function(spec, embedOpt){\n",
       "    let outputDiv = document.currentScript.previousElementSibling;\n",
       "    if (outputDiv.id !== \"altair-viz-38a7445f144847d4844aab5088cbe765\") {\n",
       "      outputDiv = document.getElementById(\"altair-viz-38a7445f144847d4844aab5088cbe765\");\n",
       "    }\n",
       "\n",
       "    const paths = {\n",
       "      \"vega\": \"https://cdn.jsdelivr.net/npm/vega@5?noext\",\n",
       "      \"vega-lib\": \"https://cdn.jsdelivr.net/npm/vega-lib?noext\",\n",
       "      \"vega-lite\": \"https://cdn.jsdelivr.net/npm/vega-lite@5.20.1?noext\",\n",
       "      \"vega-embed\": \"https://cdn.jsdelivr.net/npm/vega-embed@6?noext\",\n",
       "    };\n",
       "\n",
       "    function maybeLoadScript(lib, version) {\n",
       "      var key = `${lib.replace(\"-\", \"\")}_version`;\n",
       "      return (VEGA_DEBUG[key] == version) ?\n",
       "        Promise.resolve(paths[lib]) :\n",
       "        new Promise(function(resolve, reject) {\n",
       "          var s = document.createElement('script');\n",
       "          document.getElementsByTagName(\"head\")[0].appendChild(s);\n",
       "          s.async = true;\n",
       "          s.onload = () => {\n",
       "            VEGA_DEBUG[key] = version;\n",
       "            return resolve(paths[lib]);\n",
       "          };\n",
       "          s.onerror = () => reject(`Error loading script: ${paths[lib]}`);\n",
       "          s.src = paths[lib];\n",
       "        });\n",
       "    }\n",
       "\n",
       "    function showError(err) {\n",
       "      outputDiv.innerHTML = `<div class=\"error\" style=\"color:red;\">${err}</div>`;\n",
       "      throw err;\n",
       "    }\n",
       "\n",
       "    function displayChart(vegaEmbed) {\n",
       "      vegaEmbed(outputDiv, spec, embedOpt)\n",
       "        .catch(err => showError(`Javascript Error: ${err.message}<br>This usually means there's a typo in your chart specification. See the javascript console for the full traceback.`));\n",
       "    }\n",
       "\n",
       "    if(typeof define === \"function\" && define.amd) {\n",
       "      requirejs.config({paths});\n",
       "      let deps = [\"vega-embed\"];\n",
       "      require(deps, displayChart, err => showError(`Error loading script: ${err.message}`));\n",
       "    } else {\n",
       "      maybeLoadScript(\"vega\", \"5\")\n",
       "        .then(() => maybeLoadScript(\"vega-lite\", \"5.20.1\"))\n",
       "        .then(() => maybeLoadScript(\"vega-embed\", \"6\"))\n",
       "        .catch(showError)\n",
       "        .then(() => displayChart(vegaEmbed));\n",
       "    }\n",
       "  })({\"config\": {\"view\": {\"continuousWidth\": 300, \"continuousHeight\": 300}}, \"data\": {\"name\": \"data-605ab6d6bd257b909f575ca9d45ab425\"}, \"mark\": {\"type\": \"image\", \"height\": 20, \"width\": 20}, \"encoding\": {\"url\": {\"field\": \"url\", \"type\": \"nominal\"}, \"x\": {\"field\": \"weight-(gm)\", \"type\": \"quantitative\"}, \"y\": {\"field\": \"wingspan-(cm)\", \"type\": \"quantitative\"}}, \"title\": \"Chart 1\", \"$schema\": \"https://vega.github.io/schema/vega-lite/v5.20.1.json\", \"datasets\": {\"data-605ab6d6bd257b909f575ca9d45ab425\": [{\"weight-(gm)\": 7600.187621556242, \"wingspan-(cm)\": 265.90697588478076, \"species\": 1, \"url\": \"https://raw.githubusercontent.com/pabloinsente/nn-mod-cog/master/notebooks/images/albatross.png\"}, {\"weight-(gm)\": 9274.144322662001, \"wingspan-(cm)\": 277.27477986345275, \"species\": 1, \"url\": \"https://raw.githubusercontent.com/pabloinsente/nn-mod-cog/master/notebooks/images/albatross.png\"}, {\"weight-(gm)\": 9922.428642050916, \"wingspan-(cm)\": 240.5336905189823, \"species\": 1, \"url\": \"https://raw.githubusercontent.com/pabloinsente/nn-mod-cog/master/notebooks/images/albatross.png\"}, {\"weight-(gm)\": 8798.051170782888, \"wingspan-(cm)\": 300.6663455627773, \"species\": 1, \"url\": \"https://raw.githubusercontent.com/pabloinsente/nn-mod-cog/master/notebooks/images/albatross.png\"}, {\"weight-(gm)\": 9785.056629560986, \"wingspan-(cm)\": 295.02222665883784, \"species\": 1, \"url\": \"https://raw.githubusercontent.com/pabloinsente/nn-mod-cog/master/notebooks/images/albatross.png\"}, {\"weight-(gm)\": 9411.375073115505, \"wingspan-(cm)\": 290.996471299767, \"species\": 1, \"url\": \"https://raw.githubusercontent.com/pabloinsente/nn-mod-cog/master/notebooks/images/albatross.png\"}, {\"weight-(gm)\": 9176.94373537712, \"wingspan-(cm)\": 302.64855602297547, \"species\": 1, \"url\": \"https://raw.githubusercontent.com/pabloinsente/nn-mod-cog/master/notebooks/images/albatross.png\"}, {\"weight-(gm)\": 8143.965335545366, \"wingspan-(cm)\": 300.44427856078784, \"species\": 1, \"url\": \"https://raw.githubusercontent.com/pabloinsente/nn-mod-cog/master/notebooks/images/albatross.png\"}, {\"weight-(gm)\": 8848.40333534146, \"wingspan-(cm)\": 306.34735951882135, \"species\": 1, \"url\": \"https://raw.githubusercontent.com/pabloinsente/nn-mod-cog/master/notebooks/images/albatross.png\"}, {\"weight-(gm)\": 9204.001155418706, \"wingspan-(cm)\": 284.95171644549924, \"species\": 1, \"url\": \"https://raw.githubusercontent.com/pabloinsente/nn-mod-cog/master/notebooks/images/albatross.png\"}, {\"weight-(gm)\": 8633.5784115979, \"wingspan-(cm)\": 274.072163856997, \"species\": 1, \"url\": \"https://raw.githubusercontent.com/pabloinsente/nn-mod-cog/master/notebooks/images/albatross.png\"}, {\"weight-(gm)\": 9348.130790498313, \"wingspan-(cm)\": 301.90278887130904, \"species\": 1, \"url\": \"https://raw.githubusercontent.com/pabloinsente/nn-mod-cog/master/notebooks/images/albatross.png\"}, {\"weight-(gm)\": 8533.123959741868, \"wingspan-(cm)\": 291.5256980011316, \"species\": 1, \"url\": \"https://raw.githubusercontent.com/pabloinsente/nn-mod-cog/master/notebooks/images/albatross.png\"}, {\"weight-(gm)\": 9653.477657348623, \"wingspan-(cm)\": 276.2803287014165, \"species\": 1, \"url\": \"https://raw.githubusercontent.com/pabloinsente/nn-mod-cog/master/notebooks/images/albatross.png\"}, {\"weight-(gm)\": 9538.17664456773, \"wingspan-(cm)\": 292.6907601464675, \"species\": 1, \"url\": \"https://raw.githubusercontent.com/pabloinsente/nn-mod-cog/master/notebooks/images/albatross.png\"}, {\"weight-(gm)\": 8916.471085287498, \"wingspan-(cm)\": 274.5795391830668, \"species\": 1, \"url\": \"https://raw.githubusercontent.com/pabloinsente/nn-mod-cog/master/notebooks/images/albatross.png\"}, {\"weight-(gm)\": 8574.975698518472, \"wingspan-(cm)\": 331.7234187684647, \"species\": 1, \"url\": \"https://raw.githubusercontent.com/pabloinsente/nn-mod-cog/master/notebooks/images/albatross.png\"}, {\"weight-(gm)\": 9823.786148106678, \"wingspan-(cm)\": 313.8678131703318, \"species\": 1, \"url\": \"https://raw.githubusercontent.com/pabloinsente/nn-mod-cog/master/notebooks/images/albatross.png\"}, {\"weight-(gm)\": 8649.491501836466, \"wingspan-(cm)\": 260.83837531584265, \"species\": 1, \"url\": \"https://raw.githubusercontent.com/pabloinsente/nn-mod-cog/master/notebooks/images/albatross.png\"}, {\"weight-(gm)\": 8105.345402995651, \"wingspan-(cm)\": 297.3039737602001, \"species\": 1, \"url\": \"https://raw.githubusercontent.com/pabloinsente/nn-mod-cog/master/notebooks/images/albatross.png\"}, {\"weight-(gm)\": 10295.185328540207, \"wingspan-(cm)\": 269.1876795089477, \"species\": 1, \"url\": \"https://raw.githubusercontent.com/pabloinsente/nn-mod-cog/master/notebooks/images/albatross.png\"}, {\"weight-(gm)\": 10233.284139610725, \"wingspan-(cm)\": 340.93427936964275, \"species\": 1, \"url\": \"https://raw.githubusercontent.com/pabloinsente/nn-mod-cog/master/notebooks/images/albatross.png\"}, {\"weight-(gm)\": 8798.49668862943, \"wingspan-(cm)\": 272.0600131009343, \"species\": 1, \"url\": \"https://raw.githubusercontent.com/pabloinsente/nn-mod-cog/master/notebooks/images/albatross.png\"}, {\"weight-(gm)\": 8326.051409398962, \"wingspan-(cm)\": 278.05656030720354, \"species\": 1, \"url\": \"https://raw.githubusercontent.com/pabloinsente/nn-mod-cog/master/notebooks/images/albatross.png\"}, {\"weight-(gm)\": 9147.614952451155, \"wingspan-(cm)\": 295.2257426137064, \"species\": 1, \"url\": \"https://raw.githubusercontent.com/pabloinsente/nn-mod-cog/master/notebooks/images/albatross.png\"}, {\"weight-(gm)\": 9749.665760887161, \"wingspan-(cm)\": 271.41866203103416, \"species\": 1, \"url\": \"https://raw.githubusercontent.com/pabloinsente/nn-mod-cog/master/notebooks/images/albatross.png\"}, {\"weight-(gm)\": 9584.800275067846, \"wingspan-(cm)\": 318.9800955301052, \"species\": 1, \"url\": \"https://raw.githubusercontent.com/pabloinsente/nn-mod-cog/master/notebooks/images/albatross.png\"}, {\"weight-(gm)\": 10089.244900116264, \"wingspan-(cm)\": 299.6120482807507, \"species\": 1, \"url\": \"https://raw.githubusercontent.com/pabloinsente/nn-mod-cog/master/notebooks/images/albatross.png\"}, {\"weight-(gm)\": 8739.009552638157, \"wingspan-(cm)\": 317.8919541152003, \"species\": 1, \"url\": \"https://raw.githubusercontent.com/pabloinsente/nn-mod-cog/master/notebooks/images/albatross.png\"}, {\"weight-(gm)\": 9044.540811883822, \"wingspan-(cm)\": 315.1938623970041, \"species\": 1, \"url\": \"https://raw.githubusercontent.com/pabloinsente/nn-mod-cog/master/notebooks/images/albatross.png\"}, {\"weight-(gm)\": 9177.919686844243, \"wingspan-(cm)\": 270.0455923783366, \"species\": 1, \"url\": \"https://raw.githubusercontent.com/pabloinsente/nn-mod-cog/master/notebooks/images/albatross.png\"}, {\"weight-(gm)\": 7845.426403819731, \"wingspan-(cm)\": 276.12228046416124, \"species\": 1, \"url\": \"https://raw.githubusercontent.com/pabloinsente/nn-mod-cog/master/notebooks/images/albatross.png\"}, {\"weight-(gm)\": 8394.918155524452, \"wingspan-(cm)\": 325.92525172798116, \"species\": 1, \"url\": \"https://raw.githubusercontent.com/pabloinsente/nn-mod-cog/master/notebooks/images/albatross.png\"}, {\"weight-(gm)\": 9653.16320881543, \"wingspan-(cm)\": 319.0455125216378, \"species\": 1, \"url\": \"https://raw.githubusercontent.com/pabloinsente/nn-mod-cog/master/notebooks/images/albatross.png\"}, {\"weight-(gm)\": 9600.355809227343, \"wingspan-(cm)\": 275.6549173871797, \"species\": 1, \"url\": \"https://raw.githubusercontent.com/pabloinsente/nn-mod-cog/master/notebooks/images/albatross.png\"}, {\"weight-(gm)\": 8635.242458025597, \"wingspan-(cm)\": 296.85469665249724, \"species\": 1, \"url\": \"https://raw.githubusercontent.com/pabloinsente/nn-mod-cog/master/notebooks/images/albatross.png\"}, {\"weight-(gm)\": 9951.6978144233, \"wingspan-(cm)\": 269.84829679471227, \"species\": 1, \"url\": \"https://raw.githubusercontent.com/pabloinsente/nn-mod-cog/master/notebooks/images/albatross.png\"}, {\"weight-(gm)\": 7647.506538893116, \"wingspan-(cm)\": 302.15768261613226, \"species\": 1, \"url\": \"https://raw.githubusercontent.com/pabloinsente/nn-mod-cog/master/notebooks/images/albatross.png\"}, {\"weight-(gm)\": 7914.88076091095, \"wingspan-(cm)\": 314.941113101983, \"species\": 1, \"url\": \"https://raw.githubusercontent.com/pabloinsente/nn-mod-cog/master/notebooks/images/albatross.png\"}, {\"weight-(gm)\": 8014.052388868059, \"wingspan-(cm)\": 308.5935287172522, \"species\": 1, \"url\": \"https://raw.githubusercontent.com/pabloinsente/nn-mod-cog/master/notebooks/images/albatross.png\"}, {\"weight-(gm)\": 8564.448670662028, \"wingspan-(cm)\": 271.6991415829495, \"species\": 1, \"url\": \"https://raw.githubusercontent.com/pabloinsente/nn-mod-cog/master/notebooks/images/albatross.png\"}, {\"weight-(gm)\": 8465.462610549257, \"wingspan-(cm)\": 287.18480153978857, \"species\": 1, \"url\": \"https://raw.githubusercontent.com/pabloinsente/nn-mod-cog/master/notebooks/images/albatross.png\"}, {\"weight-(gm)\": 9005.851650583123, \"wingspan-(cm)\": 315.5925260732739, \"species\": 1, \"url\": \"https://raw.githubusercontent.com/pabloinsente/nn-mod-cog/master/notebooks/images/albatross.png\"}, {\"weight-(gm)\": 8509.64901161747, \"wingspan-(cm)\": 291.23758167302316, \"species\": 1, \"url\": \"https://raw.githubusercontent.com/pabloinsente/nn-mod-cog/master/notebooks/images/albatross.png\"}, {\"weight-(gm)\": 10039.798459804248, \"wingspan-(cm)\": 341.49586335893133, \"species\": 1, \"url\": \"https://raw.githubusercontent.com/pabloinsente/nn-mod-cog/master/notebooks/images/albatross.png\"}, {\"weight-(gm)\": 7613.523501077375, \"wingspan-(cm)\": 293.1340463563506, \"species\": 1, \"url\": \"https://raw.githubusercontent.com/pabloinsente/nn-mod-cog/master/notebooks/images/albatross.png\"}, {\"weight-(gm)\": 8213.351920696296, \"wingspan-(cm)\": 287.6674125663361, \"species\": 1, \"url\": \"https://raw.githubusercontent.com/pabloinsente/nn-mod-cog/master/notebooks/images/albatross.png\"}, {\"weight-(gm)\": 9286.006202533892, \"wingspan-(cm)\": 315.2636729211998, \"species\": 1, \"url\": \"https://raw.githubusercontent.com/pabloinsente/nn-mod-cog/master/notebooks/images/albatross.png\"}, {\"weight-(gm)\": 7709.13719774226, \"wingspan-(cm)\": 303.85834383646613, \"species\": 1, \"url\": \"https://raw.githubusercontent.com/pabloinsente/nn-mod-cog/master/notebooks/images/albatross.png\"}, {\"weight-(gm)\": 10176.571093289704, \"wingspan-(cm)\": 293.0308213869526, \"species\": 1, \"url\": \"https://raw.githubusercontent.com/pabloinsente/nn-mod-cog/master/notebooks/images/albatross.png\"}, {\"weight-(gm)\": 8049.585922145825, \"wingspan-(cm)\": 345.9730788142735, \"species\": 1, \"url\": \"https://raw.githubusercontent.com/pabloinsente/nn-mod-cog/master/notebooks/images/albatross.png\"}, {\"weight-(gm)\": 8560.20304517161, \"wingspan-(cm)\": 296.69580894718536, \"species\": 1, \"url\": \"https://raw.githubusercontent.com/pabloinsente/nn-mod-cog/master/notebooks/images/albatross.png\"}, {\"weight-(gm)\": 8247.963070764185, \"wingspan-(cm)\": 309.3259873671438, \"species\": 1, \"url\": \"https://raw.githubusercontent.com/pabloinsente/nn-mod-cog/master/notebooks/images/albatross.png\"}, {\"weight-(gm)\": 8337.654108507304, \"wingspan-(cm)\": 305.3997447726218, \"species\": 1, \"url\": \"https://raw.githubusercontent.com/pabloinsente/nn-mod-cog/master/notebooks/images/albatross.png\"}, {\"weight-(gm)\": 9087.090774266944, \"wingspan-(cm)\": 293.6033790576382, \"species\": 1, \"url\": \"https://raw.githubusercontent.com/pabloinsente/nn-mod-cog/master/notebooks/images/albatross.png\"}, {\"weight-(gm)\": 9406.247672393856, \"wingspan-(cm)\": 277.04516800246824, \"species\": 1, \"url\": \"https://raw.githubusercontent.com/pabloinsente/nn-mod-cog/master/notebooks/images/albatross.png\"}, {\"weight-(gm)\": 8310.218122791615, \"wingspan-(cm)\": 334.0724797624141, \"species\": 1, \"url\": \"https://raw.githubusercontent.com/pabloinsente/nn-mod-cog/master/notebooks/images/albatross.png\"}, {\"weight-(gm)\": 9999.575794181583, \"wingspan-(cm)\": 285.5569845988849, \"species\": 1, \"url\": \"https://raw.githubusercontent.com/pabloinsente/nn-mod-cog/master/notebooks/images/albatross.png\"}, {\"weight-(gm)\": 8936.31100326608, \"wingspan-(cm)\": 321.87373299317443, \"species\": 1, \"url\": \"https://raw.githubusercontent.com/pabloinsente/nn-mod-cog/master/notebooks/images/albatross.png\"}, {\"weight-(gm)\": 8288.214814987972, \"wingspan-(cm)\": 295.4096449352009, \"species\": 1, \"url\": \"https://raw.githubusercontent.com/pabloinsente/nn-mod-cog/master/notebooks/images/albatross.png\"}, {\"weight-(gm)\": 8294.561288413586, \"wingspan-(cm)\": 299.8220267341578, \"species\": 1, \"url\": \"https://raw.githubusercontent.com/pabloinsente/nn-mod-cog/master/notebooks/images/albatross.png\"}, {\"weight-(gm)\": 9014.911159590449, \"wingspan-(cm)\": 289.1360398318566, \"species\": 1, \"url\": \"https://raw.githubusercontent.com/pabloinsente/nn-mod-cog/master/notebooks/images/albatross.png\"}, {\"weight-(gm)\": 9190.275697538897, \"wingspan-(cm)\": 315.06124375383956, \"species\": 1, \"url\": \"https://raw.githubusercontent.com/pabloinsente/nn-mod-cog/master/notebooks/images/albatross.png\"}, {\"weight-(gm)\": 9010.83883890289, \"wingspan-(cm)\": 267.8112220765409, \"species\": 1, \"url\": \"https://raw.githubusercontent.com/pabloinsente/nn-mod-cog/master/notebooks/images/albatross.png\"}, {\"weight-(gm)\": 7691.576480495342, \"wingspan-(cm)\": 338.8652452686799, \"species\": 1, \"url\": \"https://raw.githubusercontent.com/pabloinsente/nn-mod-cog/master/notebooks/images/albatross.png\"}, {\"weight-(gm)\": 8164.632097832547, \"wingspan-(cm)\": 271.0512777536083, \"species\": 1, \"url\": \"https://raw.githubusercontent.com/pabloinsente/nn-mod-cog/master/notebooks/images/albatross.png\"}, {\"weight-(gm)\": 9490.431105350037, \"wingspan-(cm)\": 302.60496910705405, \"species\": 1, \"url\": \"https://raw.githubusercontent.com/pabloinsente/nn-mod-cog/master/notebooks/images/albatross.png\"}, {\"weight-(gm)\": 9588.96417065906, \"wingspan-(cm)\": 318.9872172932197, \"species\": 1, \"url\": \"https://raw.githubusercontent.com/pabloinsente/nn-mod-cog/master/notebooks/images/albatross.png\"}, {\"weight-(gm)\": 9821.537151519833, \"wingspan-(cm)\": 259.69622565754946, \"species\": 1, \"url\": \"https://raw.githubusercontent.com/pabloinsente/nn-mod-cog/master/notebooks/images/albatross.png\"}, {\"weight-(gm)\": 7854.247511152858, \"wingspan-(cm)\": 298.40918826131775, \"species\": 1, \"url\": \"https://raw.githubusercontent.com/pabloinsente/nn-mod-cog/master/notebooks/images/albatross.png\"}, {\"weight-(gm)\": 7527.049359850626, \"wingspan-(cm)\": 306.0209892757613, \"species\": 1, \"url\": \"https://raw.githubusercontent.com/pabloinsente/nn-mod-cog/master/notebooks/images/albatross.png\"}, {\"weight-(gm)\": 9292.874580933843, \"wingspan-(cm)\": 266.3020007662964, \"species\": 1, \"url\": \"https://raw.githubusercontent.com/pabloinsente/nn-mod-cog/master/notebooks/images/albatross.png\"}, {\"weight-(gm)\": 8734.578291957752, \"wingspan-(cm)\": 304.447816188909, \"species\": 1, \"url\": \"https://raw.githubusercontent.com/pabloinsente/nn-mod-cog/master/notebooks/images/albatross.png\"}, {\"weight-(gm)\": 8448.625617528198, \"wingspan-(cm)\": 286.3015652950554, \"species\": 1, \"url\": \"https://raw.githubusercontent.com/pabloinsente/nn-mod-cog/master/notebooks/images/albatross.png\"}, {\"weight-(gm)\": 10627.686049203947, \"wingspan-(cm)\": 297.4759763257285, \"species\": 1, \"url\": \"https://raw.githubusercontent.com/pabloinsente/nn-mod-cog/master/notebooks/images/albatross.png\"}, {\"weight-(gm)\": 8559.428470468325, \"wingspan-(cm)\": 339.8054729950818, \"species\": 1, \"url\": \"https://raw.githubusercontent.com/pabloinsente/nn-mod-cog/master/notebooks/images/albatross.png\"}, {\"weight-(gm)\": 9600.362664261473, \"wingspan-(cm)\": 310.459956090415, \"species\": 1, \"url\": \"https://raw.githubusercontent.com/pabloinsente/nn-mod-cog/master/notebooks/images/albatross.png\"}, {\"weight-(gm)\": 7954.406128735345, \"wingspan-(cm)\": 299.6730919448503, \"species\": 1, \"url\": \"https://raw.githubusercontent.com/pabloinsente/nn-mod-cog/master/notebooks/images/albatross.png\"}, {\"weight-(gm)\": 9464.45866863542, \"wingspan-(cm)\": 291.683673283187, \"species\": 1, \"url\": \"https://raw.githubusercontent.com/pabloinsente/nn-mod-cog/master/notebooks/images/albatross.png\"}, {\"weight-(gm)\": 8116.381525870165, \"wingspan-(cm)\": 272.829941264804, \"species\": 1, \"url\": \"https://raw.githubusercontent.com/pabloinsente/nn-mod-cog/master/notebooks/images/albatross.png\"}, {\"weight-(gm)\": 9552.097176179766, \"wingspan-(cm)\": 289.7114021726243, \"species\": 1, \"url\": \"https://raw.githubusercontent.com/pabloinsente/nn-mod-cog/master/notebooks/images/albatross.png\"}, {\"weight-(gm)\": 9549.512052910724, \"wingspan-(cm)\": 295.6787975999348, \"species\": 1, \"url\": \"https://raw.githubusercontent.com/pabloinsente/nn-mod-cog/master/notebooks/images/albatross.png\"}, {\"weight-(gm)\": 7746.649976337287, \"wingspan-(cm)\": 308.4476044084396, \"species\": 1, \"url\": \"https://raw.githubusercontent.com/pabloinsente/nn-mod-cog/master/notebooks/images/albatross.png\"}, {\"weight-(gm)\": 9723.979297173344, \"wingspan-(cm)\": 278.1191413793553, \"species\": 1, \"url\": \"https://raw.githubusercontent.com/pabloinsente/nn-mod-cog/master/notebooks/images/albatross.png\"}, {\"weight-(gm)\": 9623.057919458453, \"wingspan-(cm)\": 324.7381577038045, \"species\": 1, \"url\": \"https://raw.githubusercontent.com/pabloinsente/nn-mod-cog/master/notebooks/images/albatross.png\"}, {\"weight-(gm)\": 9342.586296477393, \"wingspan-(cm)\": 295.39430643145784, \"species\": 1, \"url\": \"https://raw.githubusercontent.com/pabloinsente/nn-mod-cog/master/notebooks/images/albatross.png\"}, {\"weight-(gm)\": 9087.097591918331, \"wingspan-(cm)\": 285.91163600529956, \"species\": 1, \"url\": \"https://raw.githubusercontent.com/pabloinsente/nn-mod-cog/master/notebooks/images/albatross.png\"}, {\"weight-(gm)\": 9022.62690785846, \"wingspan-(cm)\": 288.17249757829654, \"species\": 1, \"url\": \"https://raw.githubusercontent.com/pabloinsente/nn-mod-cog/master/notebooks/images/albatross.png\"}, {\"weight-(gm)\": 8536.93934016721, \"wingspan-(cm)\": 314.73990338036424, \"species\": 1, \"url\": \"https://raw.githubusercontent.com/pabloinsente/nn-mod-cog/master/notebooks/images/albatross.png\"}, {\"weight-(gm)\": 8040.439040644855, \"wingspan-(cm)\": 308.7173450502982, \"species\": 1, \"url\": \"https://raw.githubusercontent.com/pabloinsente/nn-mod-cog/master/notebooks/images/albatross.png\"}, {\"weight-(gm)\": 7635.238395409464, \"wingspan-(cm)\": 335.51987171013536, \"species\": 1, \"url\": \"https://raw.githubusercontent.com/pabloinsente/nn-mod-cog/master/notebooks/images/albatross.png\"}, {\"weight-(gm)\": 9295.331165685604, \"wingspan-(cm)\": 310.2614875767929, \"species\": 1, \"url\": \"https://raw.githubusercontent.com/pabloinsente/nn-mod-cog/master/notebooks/images/albatross.png\"}, {\"weight-(gm)\": 10501.258741569733, \"wingspan-(cm)\": 323.4105396589629, \"species\": 1, \"url\": \"https://raw.githubusercontent.com/pabloinsente/nn-mod-cog/master/notebooks/images/albatross.png\"}, {\"weight-(gm)\": 8698.47731986482, \"wingspan-(cm)\": 341.5542446450041, \"species\": 1, \"url\": \"https://raw.githubusercontent.com/pabloinsente/nn-mod-cog/master/notebooks/images/albatross.png\"}, {\"weight-(gm)\": 10465.548865460429, \"wingspan-(cm)\": 290.8815596157196, \"species\": 1, \"url\": \"https://raw.githubusercontent.com/pabloinsente/nn-mod-cog/master/notebooks/images/albatross.png\"}, {\"weight-(gm)\": 9002.413947224972, \"wingspan-(cm)\": 312.98345854509364, \"species\": 1, \"url\": \"https://raw.githubusercontent.com/pabloinsente/nn-mod-cog/master/notebooks/images/albatross.png\"}, {\"weight-(gm)\": 8939.181227420302, \"wingspan-(cm)\": 296.50436891097, \"species\": 1, \"url\": \"https://raw.githubusercontent.com/pabloinsente/nn-mod-cog/master/notebooks/images/albatross.png\"}, {\"weight-(gm)\": 9003.16607519008, \"wingspan-(cm)\": 320.3452868650234, \"species\": 1, \"url\": \"https://raw.githubusercontent.com/pabloinsente/nn-mod-cog/master/notebooks/images/albatross.png\"}, {\"weight-(gm)\": 8851.988711282309, \"wingspan-(cm)\": 288.00033910302267, \"species\": 1, \"url\": \"https://raw.githubusercontent.com/pabloinsente/nn-mod-cog/master/notebooks/images/albatross.png\"}, {\"weight-(gm)\": 7010.278771821784, \"wingspan-(cm)\": 331.5233344863841, \"species\": 1, \"url\": \"https://raw.githubusercontent.com/pabloinsente/nn-mod-cog/master/notebooks/images/albatross.png\"}, {\"weight-(gm)\": 650.0469053890605, \"wingspan-(cm)\": 74.43023191358557, \"species\": -1, \"url\": \"https://raw.githubusercontent.com/pabloinsente/nn-mod-cog/master/notebooks/images/owl.png\"}, {\"weight-(gm)\": 1068.5360806655003, \"wingspan-(cm)\": 82.95608489758956, \"species\": -1, \"url\": \"https://raw.githubusercontent.com/pabloinsente/nn-mod-cog/master/notebooks/images/owl.png\"}, {\"weight-(gm)\": 1230.6071605127288, \"wingspan-(cm)\": 55.400267889236716, \"species\": -1, \"url\": \"https://raw.githubusercontent.com/pabloinsente/nn-mod-cog/master/notebooks/images/owl.png\"}, {\"weight-(gm)\": 949.512792695722, \"wingspan-(cm)\": 100.49975917208295, \"species\": -1, \"url\": \"https://raw.githubusercontent.com/pabloinsente/nn-mod-cog/master/notebooks/images/owl.png\"}, {\"weight-(gm)\": 1196.2641573902463, \"wingspan-(cm)\": 96.26666999412838, \"species\": -1, \"url\": \"https://raw.githubusercontent.com/pabloinsente/nn-mod-cog/master/notebooks/images/owl.png\"}, {\"weight-(gm)\": 1102.8437682788765, \"wingspan-(cm)\": 93.24735347482523, \"species\": -1, \"url\": \"https://raw.githubusercontent.com/pabloinsente/nn-mod-cog/master/notebooks/images/owl.png\"}, {\"weight-(gm)\": 1044.23593384428, \"wingspan-(cm)\": 101.9864170172316, \"species\": -1, \"url\": \"https://raw.githubusercontent.com/pabloinsente/nn-mod-cog/master/notebooks/images/owl.png\"}, {\"weight-(gm)\": 785.9913338863414, \"wingspan-(cm)\": 100.33320892059086, \"species\": -1, \"url\": \"https://raw.githubusercontent.com/pabloinsente/nn-mod-cog/master/notebooks/images/owl.png\"}, {\"weight-(gm)\": 962.1008338353649, \"wingspan-(cm)\": 104.76051963911601, \"species\": -1, \"url\": \"https://raw.githubusercontent.com/pabloinsente/nn-mod-cog/master/notebooks/images/owl.png\"}, {\"weight-(gm)\": 1051.0002888546762, \"wingspan-(cm)\": 88.71378733412445, \"species\": -1, \"url\": \"https://raw.githubusercontent.com/pabloinsente/nn-mod-cog/master/notebooks/images/owl.png\"}, {\"weight-(gm)\": 908.3946028994751, \"wingspan-(cm)\": 80.55412289274774, \"species\": -1, \"url\": \"https://raw.githubusercontent.com/pabloinsente/nn-mod-cog/master/notebooks/images/owl.png\"}, {\"weight-(gm)\": 1087.0326976245785, \"wingspan-(cm)\": 101.4270916534818, \"species\": -1, \"url\": \"https://raw.githubusercontent.com/pabloinsente/nn-mod-cog/master/notebooks/images/owl.png\"}, {\"weight-(gm)\": 883.280989935467, \"wingspan-(cm)\": 93.6442735008487, \"species\": -1, \"url\": \"https://raw.githubusercontent.com/pabloinsente/nn-mod-cog/master/notebooks/images/owl.png\"}, {\"weight-(gm)\": 1163.3694143371558, \"wingspan-(cm)\": 82.2102465260624, \"species\": -1, \"url\": \"https://raw.githubusercontent.com/pabloinsente/nn-mod-cog/master/notebooks/images/owl.png\"}, {\"weight-(gm)\": 1134.5441611419321, \"wingspan-(cm)\": 94.5180701098506, \"species\": -1, \"url\": \"https://raw.githubusercontent.com/pabloinsente/nn-mod-cog/master/notebooks/images/owl.png\"}, {\"weight-(gm)\": 979.1177713218744, \"wingspan-(cm)\": 80.93465438730009, \"species\": -1, \"url\": \"https://raw.githubusercontent.com/pabloinsente/nn-mod-cog/master/notebooks/images/owl.png\"}, {\"weight-(gm)\": 893.743924629618, \"wingspan-(cm)\": 123.79256407634853, \"species\": -1, \"url\": \"https://raw.githubusercontent.com/pabloinsente/nn-mod-cog/master/notebooks/images/owl.png\"}, {\"weight-(gm)\": 1205.9465370266691, \"wingspan-(cm)\": 110.40085987774883, \"species\": -1, \"url\": \"https://raw.githubusercontent.com/pabloinsente/nn-mod-cog/master/notebooks/images/owl.png\"}, {\"weight-(gm)\": 912.3728754591166, \"wingspan-(cm)\": 70.628781486882, \"species\": -1, \"url\": \"https://raw.githubusercontent.com/pabloinsente/nn-mod-cog/master/notebooks/images/owl.png\"}, {\"weight-(gm)\": 776.3363507489128, \"wingspan-(cm)\": 97.97798032015008, \"species\": -1, \"url\": \"https://raw.githubusercontent.com/pabloinsente/nn-mod-cog/master/notebooks/images/owl.png\"}, {\"weight-(gm)\": 1323.796332135052, \"wingspan-(cm)\": 76.8907596317108, \"species\": -1, \"url\": \"https://raw.githubusercontent.com/pabloinsente/nn-mod-cog/master/notebooks/images/owl.png\"}, {\"weight-(gm)\": 1308.3210349026813, \"wingspan-(cm)\": 130.70070952723208, \"species\": -1, \"url\": \"https://raw.githubusercontent.com/pabloinsente/nn-mod-cog/master/notebooks/images/owl.png\"}, {\"weight-(gm)\": 949.6241721573574, \"wingspan-(cm)\": 79.04500982570075, \"species\": -1, \"url\": \"https://raw.githubusercontent.com/pabloinsente/nn-mod-cog/master/notebooks/images/owl.png\"}, {\"weight-(gm)\": 831.5128523497405, \"wingspan-(cm)\": 83.54242023040266, \"species\": -1, \"url\": \"https://raw.githubusercontent.com/pabloinsente/nn-mod-cog/master/notebooks/images/owl.png\"}, {\"weight-(gm)\": 1036.9037381127885, \"wingspan-(cm)\": 96.41930696027981, \"species\": -1, \"url\": \"https://raw.githubusercontent.com/pabloinsente/nn-mod-cog/master/notebooks/images/owl.png\"}, {\"weight-(gm)\": 1187.4164402217905, \"wingspan-(cm)\": 78.56399652327563, \"species\": -1, \"url\": \"https://raw.githubusercontent.com/pabloinsente/nn-mod-cog/master/notebooks/images/owl.png\"}, {\"weight-(gm)\": 1146.2000687669617, \"wingspan-(cm)\": 114.23507164757889, \"species\": -1, \"url\": \"https://raw.githubusercontent.com/pabloinsente/nn-mod-cog/master/notebooks/images/owl.png\"}, {\"weight-(gm)\": 1272.3112250290662, \"wingspan-(cm)\": 99.70903621056303, \"species\": -1, \"url\": \"https://raw.githubusercontent.com/pabloinsente/nn-mod-cog/master/notebooks/images/owl.png\"}, {\"weight-(gm)\": 934.7523881595395, \"wingspan-(cm)\": 113.4189655864002, \"species\": -1, \"url\": \"https://raw.githubusercontent.com/pabloinsente/nn-mod-cog/master/notebooks/images/owl.png\"}, {\"weight-(gm)\": 1011.1352029709553, \"wingspan-(cm)\": 111.39539679775308, \"species\": -1, \"url\": \"https://raw.githubusercontent.com/pabloinsente/nn-mod-cog/master/notebooks/images/owl.png\"}, {\"weight-(gm)\": 1044.479921711061, \"wingspan-(cm)\": 77.53419428375246, \"species\": -1, \"url\": \"https://raw.githubusercontent.com/pabloinsente/nn-mod-cog/master/notebooks/images/owl.png\"}, {\"weight-(gm)\": 711.3566009549327, \"wingspan-(cm)\": 82.09171034812093, \"species\": -1, \"url\": \"https://raw.githubusercontent.com/pabloinsente/nn-mod-cog/master/notebooks/images/owl.png\"}, {\"weight-(gm)\": 848.729538881113, \"wingspan-(cm)\": 119.44393879598586, \"species\": -1, \"url\": \"https://raw.githubusercontent.com/pabloinsente/nn-mod-cog/master/notebooks/images/owl.png\"}, {\"weight-(gm)\": 1163.290802203857, \"wingspan-(cm)\": 114.28413439122836, \"species\": -1, \"url\": \"https://raw.githubusercontent.com/pabloinsente/nn-mod-cog/master/notebooks/images/owl.png\"}, {\"weight-(gm)\": 1150.0889523068356, \"wingspan-(cm)\": 81.74118804038477, \"species\": -1, \"url\": \"https://raw.githubusercontent.com/pabloinsente/nn-mod-cog/master/notebooks/images/owl.png\"}, {\"weight-(gm)\": 908.8106145063996, \"wingspan-(cm)\": 97.64102248937293, \"species\": -1, \"url\": \"https://raw.githubusercontent.com/pabloinsente/nn-mod-cog/master/notebooks/images/owl.png\"}, {\"weight-(gm)\": 1237.9244536058252, \"wingspan-(cm)\": 77.3862225960342, \"species\": -1, \"url\": \"https://raw.githubusercontent.com/pabloinsente/nn-mod-cog/master/notebooks/images/owl.png\"}, {\"weight-(gm)\": 661.8766347232792, \"wingspan-(cm)\": 101.6182619620992, \"species\": -1, \"url\": \"https://raw.githubusercontent.com/pabloinsente/nn-mod-cog/master/notebooks/images/owl.png\"}, {\"weight-(gm)\": 728.7201902277375, \"wingspan-(cm)\": 111.2058348264872, \"species\": -1, \"url\": \"https://raw.githubusercontent.com/pabloinsente/nn-mod-cog/master/notebooks/images/owl.png\"}, {\"weight-(gm)\": 753.5130972170148, \"wingspan-(cm)\": 106.44514653793914, \"species\": -1, \"url\": \"https://raw.githubusercontent.com/pabloinsente/nn-mod-cog/master/notebooks/images/owl.png\"}, {\"weight-(gm)\": 891.1121676655072, \"wingspan-(cm)\": 78.7743561872121, \"species\": -1, \"url\": \"https://raw.githubusercontent.com/pabloinsente/nn-mod-cog/master/notebooks/images/owl.png\"}, {\"weight-(gm)\": 866.3656526373145, \"wingspan-(cm)\": 90.38860115484142, \"species\": -1, \"url\": \"https://raw.githubusercontent.com/pabloinsente/nn-mod-cog/master/notebooks/images/owl.png\"}, {\"weight-(gm)\": 1001.4629126457806, \"wingspan-(cm)\": 111.69439455495544, \"species\": -1, \"url\": \"https://raw.githubusercontent.com/pabloinsente/nn-mod-cog/master/notebooks/images/owl.png\"}, {\"weight-(gm)\": 877.4122529043675, \"wingspan-(cm)\": 93.42818625476735, \"species\": -1, \"url\": \"https://raw.githubusercontent.com/pabloinsente/nn-mod-cog/master/notebooks/images/owl.png\"}, {\"weight-(gm)\": 1259.949614951062, \"wingspan-(cm)\": 131.12189751919848, \"species\": -1, \"url\": \"https://raw.githubusercontent.com/pabloinsente/nn-mod-cog/master/notebooks/images/owl.png\"}, {\"weight-(gm)\": 653.3808752693437, \"wingspan-(cm)\": 94.85053476726296, \"species\": -1, \"url\": \"https://raw.githubusercontent.com/pabloinsente/nn-mod-cog/master/notebooks/images/owl.png\"}, {\"weight-(gm)\": 803.337980174074, \"wingspan-(cm)\": 90.75055942475208, \"species\": -1, \"url\": \"https://raw.githubusercontent.com/pabloinsente/nn-mod-cog/master/notebooks/images/owl.png\"}, {\"weight-(gm)\": 1071.501550633473, \"wingspan-(cm)\": 111.44775469089988, \"species\": -1, \"url\": \"https://raw.githubusercontent.com/pabloinsente/nn-mod-cog/master/notebooks/images/owl.png\"}, {\"weight-(gm)\": 677.2842994355649, \"wingspan-(cm)\": 102.8937578773496, \"species\": -1, \"url\": \"https://raw.githubusercontent.com/pabloinsente/nn-mod-cog/master/notebooks/images/owl.png\"}, {\"weight-(gm)\": 1294.142773322426, \"wingspan-(cm)\": 94.77311604021445, \"species\": -1, \"url\": \"https://raw.githubusercontent.com/pabloinsente/nn-mod-cog/master/notebooks/images/owl.png\"}, {\"weight-(gm)\": 762.3964805364561, \"wingspan-(cm)\": 134.47980911070513, \"species\": -1, \"url\": \"https://raw.githubusercontent.com/pabloinsente/nn-mod-cog/master/notebooks/images/owl.png\"}, {\"weight-(gm)\": 890.050761292902, \"wingspan-(cm)\": 97.52185671038902, \"species\": -1, \"url\": \"https://raw.githubusercontent.com/pabloinsente/nn-mod-cog/master/notebooks/images/owl.png\"}, {\"weight-(gm)\": 811.9907676910464, \"wingspan-(cm)\": 106.99449052535785, \"species\": -1, \"url\": \"https://raw.githubusercontent.com/pabloinsente/nn-mod-cog/master/notebooks/images/owl.png\"}, {\"weight-(gm)\": 834.4135271268258, \"wingspan-(cm)\": 104.04980857946633, \"species\": -1, \"url\": \"https://raw.githubusercontent.com/pabloinsente/nn-mod-cog/master/notebooks/images/owl.png\"}, {\"weight-(gm)\": 1021.7726935667359, \"wingspan-(cm)\": 95.20253429322868, \"species\": -1, \"url\": \"https://raw.githubusercontent.com/pabloinsente/nn-mod-cog/master/notebooks/images/owl.png\"}, {\"weight-(gm)\": 1101.561918098464, \"wingspan-(cm)\": 82.78387600185121, \"species\": -1, \"url\": \"https://raw.githubusercontent.com/pabloinsente/nn-mod-cog/master/notebooks/images/owl.png\"}, {\"weight-(gm)\": 827.554530697904, \"wingspan-(cm)\": 125.55435982181058, \"species\": -1, \"url\": \"https://raw.githubusercontent.com/pabloinsente/nn-mod-cog/master/notebooks/images/owl.png\"}, {\"weight-(gm)\": 1249.8939485453957, \"wingspan-(cm)\": 89.16773844916369, \"species\": -1, \"url\": \"https://raw.githubusercontent.com/pabloinsente/nn-mod-cog/master/notebooks/images/owl.png\"}, {\"weight-(gm)\": 984.0777508165202, \"wingspan-(cm)\": 116.40529974488082, \"species\": -1, \"url\": \"https://raw.githubusercontent.com/pabloinsente/nn-mod-cog/master/notebooks/images/owl.png\"}, {\"weight-(gm)\": 822.0537037469933, \"wingspan-(cm)\": 96.55723370140066, \"species\": -1, \"url\": \"https://raw.githubusercontent.com/pabloinsente/nn-mod-cog/master/notebooks/images/owl.png\"}, {\"weight-(gm)\": 823.6403221033966, \"wingspan-(cm)\": 99.86652005061835, \"species\": -1, \"url\": \"https://raw.githubusercontent.com/pabloinsente/nn-mod-cog/master/notebooks/images/owl.png\"}, {\"weight-(gm)\": 1003.7277898976121, \"wingspan-(cm)\": 91.85202987389242, \"species\": -1, \"url\": \"https://raw.githubusercontent.com/pabloinsente/nn-mod-cog/master/notebooks/images/owl.png\"}, {\"weight-(gm)\": 1047.5689243847244, \"wingspan-(cm)\": 111.29593281537969, \"species\": -1, \"url\": \"https://raw.githubusercontent.com/pabloinsente/nn-mod-cog/master/notebooks/images/owl.png\"}, {\"weight-(gm)\": 1002.7097097257225, \"wingspan-(cm)\": 75.85841655740569, \"species\": -1, \"url\": \"https://raw.githubusercontent.com/pabloinsente/nn-mod-cog/master/notebooks/images/owl.png\"}, {\"weight-(gm)\": 672.8941201238356, \"wingspan-(cm)\": 129.14893395150995, \"species\": -1, \"url\": \"https://raw.githubusercontent.com/pabloinsente/nn-mod-cog/master/notebooks/images/owl.png\"}, {\"weight-(gm)\": 791.1580244581367, \"wingspan-(cm)\": 78.28845831520623, \"species\": -1, \"url\": \"https://raw.githubusercontent.com/pabloinsente/nn-mod-cog/master/notebooks/images/owl.png\"}, {\"weight-(gm)\": 1122.6077763375092, \"wingspan-(cm)\": 101.95372683029053, \"species\": -1, \"url\": \"https://raw.githubusercontent.com/pabloinsente/nn-mod-cog/master/notebooks/images/owl.png\"}, {\"weight-(gm)\": 1147.2410426647648, \"wingspan-(cm)\": 114.2404129699148, \"species\": -1, \"url\": \"https://raw.githubusercontent.com/pabloinsente/nn-mod-cog/master/notebooks/images/owl.png\"}, {\"weight-(gm)\": 1205.384287879958, \"wingspan-(cm)\": 69.7721692431621, \"species\": -1, \"url\": \"https://raw.githubusercontent.com/pabloinsente/nn-mod-cog/master/notebooks/images/owl.png\"}, {\"weight-(gm)\": 713.5618777882146, \"wingspan-(cm)\": 98.80689119598833, \"species\": -1, \"url\": \"https://raw.githubusercontent.com/pabloinsente/nn-mod-cog/master/notebooks/images/owl.png\"}, {\"weight-(gm)\": 631.7623399626566, \"wingspan-(cm)\": 104.51574195682099, \"species\": -1, \"url\": \"https://raw.githubusercontent.com/pabloinsente/nn-mod-cog/master/notebooks/images/owl.png\"}, {\"weight-(gm)\": 1073.2186452334608, \"wingspan-(cm)\": 74.7265005747223, \"species\": -1, \"url\": \"https://raw.githubusercontent.com/pabloinsente/nn-mod-cog/master/notebooks/images/owl.png\"}, {\"weight-(gm)\": 933.6445729894383, \"wingspan-(cm)\": 103.33586214168173, \"species\": -1, \"url\": \"https://raw.githubusercontent.com/pabloinsente/nn-mod-cog/master/notebooks/images/owl.png\"}, {\"weight-(gm)\": 862.1564043820493, \"wingspan-(cm)\": 89.72617397129154, \"species\": -1, \"url\": \"https://raw.githubusercontent.com/pabloinsente/nn-mod-cog/master/notebooks/images/owl.png\"}, {\"weight-(gm)\": 1406.9215123009867, \"wingspan-(cm)\": 98.10698224429635, \"species\": -1, \"url\": \"https://raw.githubusercontent.com/pabloinsente/nn-mod-cog/master/notebooks/images/owl.png\"}, {\"weight-(gm)\": 889.8571176170815, \"wingspan-(cm)\": 129.85410474631135, \"species\": -1, \"url\": \"https://raw.githubusercontent.com/pabloinsente/nn-mod-cog/master/notebooks/images/owl.png\"}, {\"weight-(gm)\": 1150.0906660653682, \"wingspan-(cm)\": 107.84496706781127, \"species\": -1, \"url\": \"https://raw.githubusercontent.com/pabloinsente/nn-mod-cog/master/notebooks/images/owl.png\"}, {\"weight-(gm)\": 738.6015321838362, \"wingspan-(cm)\": 99.7548189586377, \"species\": -1, \"url\": \"https://raw.githubusercontent.com/pabloinsente/nn-mod-cog/master/notebooks/images/owl.png\"}, {\"weight-(gm)\": 1116.114667158855, \"wingspan-(cm)\": 93.76275496239025, \"species\": -1, \"url\": \"https://raw.githubusercontent.com/pabloinsente/nn-mod-cog/master/notebooks/images/owl.png\"}, {\"weight-(gm)\": 779.0953814675413, \"wingspan-(cm)\": 79.622455948603, \"species\": -1, \"url\": \"https://raw.githubusercontent.com/pabloinsente/nn-mod-cog/master/notebooks/images/owl.png\"}, {\"weight-(gm)\": 1138.0242940449416, \"wingspan-(cm)\": 92.28355162946822, \"species\": -1, \"url\": \"https://raw.githubusercontent.com/pabloinsente/nn-mod-cog/master/notebooks/images/owl.png\"}, {\"weight-(gm)\": 1137.3780132276809, \"wingspan-(cm)\": 96.75909819995108, \"species\": -1, \"url\": \"https://raw.githubusercontent.com/pabloinsente/nn-mod-cog/master/notebooks/images/owl.png\"}, {\"weight-(gm)\": 686.6624940843218, \"wingspan-(cm)\": 106.33570330632968, \"species\": -1, \"url\": \"https://raw.githubusercontent.com/pabloinsente/nn-mod-cog/master/notebooks/images/owl.png\"}, {\"weight-(gm)\": 1180.9948242933363, \"wingspan-(cm)\": 83.58935603451647, \"species\": -1, \"url\": \"https://raw.githubusercontent.com/pabloinsente/nn-mod-cog/master/notebooks/images/owl.png\"}, {\"weight-(gm)\": 1155.7644798646133, \"wingspan-(cm)\": 118.55361827785339, \"species\": -1, \"url\": \"https://raw.githubusercontent.com/pabloinsente/nn-mod-cog/master/notebooks/images/owl.png\"}, {\"weight-(gm)\": 1085.646574119348, \"wingspan-(cm)\": 96.54572982359338, \"species\": -1, \"url\": \"https://raw.githubusercontent.com/pabloinsente/nn-mod-cog/master/notebooks/images/owl.png\"}, {\"weight-(gm)\": 1021.7743979795829, \"wingspan-(cm)\": 89.43372700397465, \"species\": -1, \"url\": \"https://raw.githubusercontent.com/pabloinsente/nn-mod-cog/master/notebooks/images/owl.png\"}, {\"weight-(gm)\": 1005.6567269646147, \"wingspan-(cm)\": 91.12937318372242, \"species\": -1, \"url\": \"https://raw.githubusercontent.com/pabloinsente/nn-mod-cog/master/notebooks/images/owl.png\"}, {\"weight-(gm)\": 884.2348350418023, \"wingspan-(cm)\": 111.05492753527318, \"species\": -1, \"url\": \"https://raw.githubusercontent.com/pabloinsente/nn-mod-cog/master/notebooks/images/owl.png\"}, {\"weight-(gm)\": 760.1097601612138, \"wingspan-(cm)\": 106.53800878772365, \"species\": -1, \"url\": \"https://raw.githubusercontent.com/pabloinsente/nn-mod-cog/master/notebooks/images/owl.png\"}, {\"weight-(gm)\": 658.809598852366, \"wingspan-(cm)\": 126.6399037826015, \"species\": -1, \"url\": \"https://raw.githubusercontent.com/pabloinsente/nn-mod-cog/master/notebooks/images/owl.png\"}, {\"weight-(gm)\": 1073.8327914214012, \"wingspan-(cm)\": 107.69611568259468, \"species\": -1, \"url\": \"https://raw.githubusercontent.com/pabloinsente/nn-mod-cog/master/notebooks/images/owl.png\"}, {\"weight-(gm)\": 1375.3146853924331, \"wingspan-(cm)\": 117.55790474422216, \"species\": -1, \"url\": \"https://raw.githubusercontent.com/pabloinsente/nn-mod-cog/master/notebooks/images/owl.png\"}, {\"weight-(gm)\": 924.619329966205, \"wingspan-(cm)\": 131.16568348375304, \"species\": -1, \"url\": \"https://raw.githubusercontent.com/pabloinsente/nn-mod-cog/master/notebooks/images/owl.png\"}, {\"weight-(gm)\": 1366.3872163651072, \"wingspan-(cm)\": 93.1611697117897, \"species\": -1, \"url\": \"https://raw.githubusercontent.com/pabloinsente/nn-mod-cog/master/notebooks/images/owl.png\"}, {\"weight-(gm)\": 1000.6034868062428, \"wingspan-(cm)\": 109.73759390882023, \"species\": -1, \"url\": \"https://raw.githubusercontent.com/pabloinsente/nn-mod-cog/master/notebooks/images/owl.png\"}, {\"weight-(gm)\": 984.7953068550753, \"wingspan-(cm)\": 97.37827668322753, \"species\": -1, \"url\": \"https://raw.githubusercontent.com/pabloinsente/nn-mod-cog/master/notebooks/images/owl.png\"}, {\"weight-(gm)\": 1000.7915187975199, \"wingspan-(cm)\": 115.25896514876754, \"species\": -1, \"url\": \"https://raw.githubusercontent.com/pabloinsente/nn-mod-cog/master/notebooks/images/owl.png\"}, {\"weight-(gm)\": 962.9971778205772, \"wingspan-(cm)\": 91.000254327267, \"species\": -1, \"url\": \"https://raw.githubusercontent.com/pabloinsente/nn-mod-cog/master/notebooks/images/owl.png\"}, {\"weight-(gm)\": 502.5696929554461, \"wingspan-(cm)\": 123.64250086478809, \"species\": -1, \"url\": \"https://raw.githubusercontent.com/pabloinsente/nn-mod-cog/master/notebooks/images/owl.png\"}]}}, {\"mode\": \"vega-lite\"});\n",
       "</script>"
      ],
      "text/plain": [
       "alt.Chart(...)"
      ]
     },
     "execution_count": 92,
     "metadata": {},
     "output_type": "execute_result"
    }
   ],
   "source": [
    "# df = albatross_df.append(owl_df, ignore_index=True)\n",
    "df = pd.concat([albatross_df, owl_df], ignore_index=True)\n",
    "\n",
    "alt.Chart(df).mark_image(\n",
    "    width=20,\n",
    "    height=20\n",
    ").encode(\n",
    "    x=\"weight-(gm)\",\n",
    "    y=\"wingspan-(cm)\",\n",
    "    url=\"url\"\n",
    ").properties(\n",
    "    title='Chart 1'\n",
    ")"
   ]
  },
  {
   "cell_type": "code",
   "execution_count": 93,
   "metadata": {},
   "outputs": [],
   "source": [
    "df_shuffle = df.sample(frac=1, random_state=1).reset_index(drop=True)\n",
    "X = df_shuffle[['weight-(gm)','wingspan-(cm)']].to_numpy()\n",
    "y = df_shuffle['species'].to_numpy()"
   ]
  },
  {
   "cell_type": "code",
   "execution_count": 94,
   "metadata": {},
   "outputs": [
    {
     "name": "stdout",
     "output_type": "stream",
     "text": [
      "[ 0.01624407  0.00024607 -0.00507522] [1657.7059195090953, 645.6347772640765, 251.58682683094383, 98.16500374231856, 38.43049519101968, 15.172960286729813, 6.1176641091291435, 2.591981953502288, 1.2192442640539063, 0.6847513186984904, 0.47662733844914024, 0.39557448463381123]\n"
     ]
    }
   ],
   "source": [
    "w, mse = fit(X, y, eta=1e-10, n_iter=12)\n",
    "print(w, mse)"
   ]
  },
  {
   "cell_type": "code",
   "execution_count": 95,
   "metadata": {},
   "outputs": [
    {
     "name": "stdout",
     "output_type": "stream",
     "text": [
      "ADALINE accuracy: 99.50%\n"
     ]
    }
   ],
   "source": [
    "y_pred = predict(X, w)\n",
    "num_correct_predictions = (y_pred == y).sum()\n",
    "accuracy = (num_correct_predictions / y.shape[0]) * 100\n",
    "print('ADALINE accuracy: %.2f%%' % accuracy)"
   ]
  },
  {
   "cell_type": "code",
   "execution_count": 96,
   "metadata": {},
   "outputs": [
    {
     "data": {
      "text/html": [
       "\n",
       "<style>\n",
       "  #altair-viz-3a1f2e265b9446c781cdbd2af508e091.vega-embed {\n",
       "    width: 100%;\n",
       "    display: flex;\n",
       "  }\n",
       "\n",
       "  #altair-viz-3a1f2e265b9446c781cdbd2af508e091.vega-embed details,\n",
       "  #altair-viz-3a1f2e265b9446c781cdbd2af508e091.vega-embed details summary {\n",
       "    position: relative;\n",
       "  }\n",
       "</style>\n",
       "<div id=\"altair-viz-3a1f2e265b9446c781cdbd2af508e091\"></div>\n",
       "<script type=\"text/javascript\">\n",
       "  var VEGA_DEBUG = (typeof VEGA_DEBUG == \"undefined\") ? {} : VEGA_DEBUG;\n",
       "  (function(spec, embedOpt){\n",
       "    let outputDiv = document.currentScript.previousElementSibling;\n",
       "    if (outputDiv.id !== \"altair-viz-3a1f2e265b9446c781cdbd2af508e091\") {\n",
       "      outputDiv = document.getElementById(\"altair-viz-3a1f2e265b9446c781cdbd2af508e091\");\n",
       "    }\n",
       "\n",
       "    const paths = {\n",
       "      \"vega\": \"https://cdn.jsdelivr.net/npm/vega@5?noext\",\n",
       "      \"vega-lib\": \"https://cdn.jsdelivr.net/npm/vega-lib?noext\",\n",
       "      \"vega-lite\": \"https://cdn.jsdelivr.net/npm/vega-lite@5.20.1?noext\",\n",
       "      \"vega-embed\": \"https://cdn.jsdelivr.net/npm/vega-embed@6?noext\",\n",
       "    };\n",
       "\n",
       "    function maybeLoadScript(lib, version) {\n",
       "      var key = `${lib.replace(\"-\", \"\")}_version`;\n",
       "      return (VEGA_DEBUG[key] == version) ?\n",
       "        Promise.resolve(paths[lib]) :\n",
       "        new Promise(function(resolve, reject) {\n",
       "          var s = document.createElement('script');\n",
       "          document.getElementsByTagName(\"head\")[0].appendChild(s);\n",
       "          s.async = true;\n",
       "          s.onload = () => {\n",
       "            VEGA_DEBUG[key] = version;\n",
       "            return resolve(paths[lib]);\n",
       "          };\n",
       "          s.onerror = () => reject(`Error loading script: ${paths[lib]}`);\n",
       "          s.src = paths[lib];\n",
       "        });\n",
       "    }\n",
       "\n",
       "    function showError(err) {\n",
       "      outputDiv.innerHTML = `<div class=\"error\" style=\"color:red;\">${err}</div>`;\n",
       "      throw err;\n",
       "    }\n",
       "\n",
       "    function displayChart(vegaEmbed) {\n",
       "      vegaEmbed(outputDiv, spec, embedOpt)\n",
       "        .catch(err => showError(`Javascript Error: ${err.message}<br>This usually means there's a typo in your chart specification. See the javascript console for the full traceback.`));\n",
       "    }\n",
       "\n",
       "    if(typeof define === \"function\" && define.amd) {\n",
       "      requirejs.config({paths});\n",
       "      let deps = [\"vega-embed\"];\n",
       "      require(deps, displayChart, err => showError(`Error loading script: ${err.message}`));\n",
       "    } else {\n",
       "      maybeLoadScript(\"vega\", \"5\")\n",
       "        .then(() => maybeLoadScript(\"vega-lite\", \"5.20.1\"))\n",
       "        .then(() => maybeLoadScript(\"vega-embed\", \"6\"))\n",
       "        .catch(showError)\n",
       "        .then(() => displayChart(vegaEmbed));\n",
       "    }\n",
       "  })({\"config\": {\"view\": {\"continuousWidth\": 300, \"continuousHeight\": 300}}, \"data\": {\"name\": \"data-b5c041aa555c1ef06bca6e0628371a8d\"}, \"mark\": {\"type\": \"line\"}, \"encoding\": {\"x\": {\"field\": \"time-step\", \"type\": \"ordinal\"}, \"y\": {\"field\": \"mse\", \"type\": \"quantitative\"}}, \"title\": \"Chart 2\", \"width\": 400, \"$schema\": \"https://vega.github.io/schema/vega-lite/v5.20.1.json\", \"datasets\": {\"data-b5c041aa555c1ef06bca6e0628371a8d\": [{\"mse\": 1657.7059195090953, \"time-step\": 0}, {\"mse\": 645.6347772640765, \"time-step\": 1}, {\"mse\": 251.58682683094383, \"time-step\": 2}, {\"mse\": 98.16500374231856, \"time-step\": 3}, {\"mse\": 38.43049519101968, \"time-step\": 4}, {\"mse\": 15.172960286729813, \"time-step\": 5}, {\"mse\": 6.1176641091291435, \"time-step\": 6}, {\"mse\": 2.591981953502288, \"time-step\": 7}, {\"mse\": 1.2192442640539063, \"time-step\": 8}, {\"mse\": 0.6847513186984904, \"time-step\": 9}, {\"mse\": 0.47662733844914024, \"time-step\": 10}, {\"mse\": 0.39557448463381123, \"time-step\": 11}]}}, {\"mode\": \"vega-lite\"});\n",
       "</script>"
      ],
      "text/plain": [
       "alt.Chart(...)"
      ]
     },
     "execution_count": 96,
     "metadata": {},
     "output_type": "execute_result"
    }
   ],
   "source": [
    "mse_df = pd.DataFrame({'mse':mse, 'time-step': np.arange(0, len(mse))})\n",
    "base = alt.Chart(mse_df).encode(x=\"time-step:O\")\n",
    "base.mark_line().encode(\n",
    "    y=\"mse\"\n",
    ").properties(\n",
    "    width=400,\n",
    "    title='Chart 2'\n",
    ")\n"
   ]
  },
  {
   "cell_type": "code",
   "execution_count": 97,
   "metadata": {},
   "outputs": [],
   "source": [
    "# condor_weight_mean = 12000 # in grams\n",
    "# condor_weight_variance = 1000 # in grams\n",
    "# condor_wingspan_mean = 290 # in cm\n",
    "# condor_wingspan_variance = 15 # in cm \n",
    "# n_samples = 100\n",
    "# target = -1\n",
    "# seed = 100\n",
    "\n",
    "# # cX: feature matrix (weight, wingspan)\n",
    "# # cy: target value (1)\n",
    "# cX, cy = species_generator(condor_weight_mean, condor_weight_variance,\n",
    "#                            condor_wingspan_mean, condor_wingspan_variance,\n",
    "#                            n_samples,target,seed )\n",
    "\n",
    "# condor_dic = {'weight-(gm)': cX[:,0],\n",
    "#              'wingspan-(cm)': cX[:,1], \n",
    "#              'species': cy,\n",
    "#              'url': \"https://raw.githubusercontent.com/pabloinsente/nn-mod-cog/master/notebooks/images/condor.png\"}\n",
    "\n",
    "# # put values in a relational table (pandas dataframe)\n",
    "# condor_df = pd.DataFrame(condor_dic)\n",
    "\n",
    "# df2 = pd.concat([albatross_df, condor_df], ignore_index=True)"
   ]
  },
  {
   "cell_type": "code",
   "execution_count": 98,
   "metadata": {},
   "outputs": [],
   "source": [
    "# alt.Chart(df2).mark_image(\n",
    "#     width=20,\n",
    "#     height=20\n",
    "# ).encode(\n",
    "#     alt.X(\"weight-(gm)\", scale=alt.Scale(domain=(6000, 16000))),\n",
    "#     alt.Y(\"wingspan-(cm)\", scale=alt.Scale(domain=(220, 360))),\n",
    "#     url=\"url\"\n",
    "# ).properties(\n",
    "# title=\"Chart 3\"\n",
    "# )"
   ]
  },
  {
   "cell_type": "code",
   "execution_count": 99,
   "metadata": {},
   "outputs": [],
   "source": [
    "# df_shuffle2 = df2.sample(frac=1, random_state=1).reset_index(drop=True)\n",
    "# X = df_shuffle2[['weight-(gm)','wingspan-(cm)']].to_numpy()\n",
    "# y = df_shuffle2['species'].to_numpy()"
   ]
  },
  {
   "cell_type": "code",
   "execution_count": 100,
   "metadata": {},
   "outputs": [],
   "source": [
    "# w, errors = fit(X, y, eta=0.01, n_iter=1000)"
   ]
  },
  {
   "cell_type": "code",
   "execution_count": 101,
   "metadata": {},
   "outputs": [],
   "source": [
    "# y_pred = predict(X, w)\n",
    "# num_correct_predictions = (y_pred == y).sum()\n",
    "# accuracy = (num_correct_predictions / y.shape[0]) * 100\n",
    "# print('Perceptron accuracy: %.2f%%' % accuracy)"
   ]
  }
 ],
 "metadata": {
  "kernelspec": {
   "display_name": "Python 3",
   "language": "python",
   "name": "python3"
  },
  "language_info": {
   "codemirror_mode": {
    "name": "ipython",
    "version": 3
   },
   "file_extension": ".py",
   "mimetype": "text/x-python",
   "name": "python",
   "nbconvert_exporter": "python",
   "pygments_lexer": "ipython3",
   "version": "3.9.1"
  }
 },
 "nbformat": 4,
 "nbformat_minor": 2
}
